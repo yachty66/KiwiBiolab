{
 "cells": [
  {
   "cell_type": "markdown",
   "metadata": {},
   "source": [
    "# Setup"
   ]
  },
  {
   "cell_type": "code",
   "execution_count": 4,
   "metadata": {},
   "outputs": [
    {
     "ename": "USBError",
     "evalue": "[Errno 13] Access denied (insufficient permissions)",
     "output_type": "error",
     "traceback": [
      "\u001b[0;31m---------------------------------------------------------------------------\u001b[0m",
      "\u001b[0;31mUSBError\u001b[0m                                  Traceback (most recent call last)",
      "\u001b[1;32m/Users/maxhager/Projects2022/KiwiBiolab/PyLabRobot/control.ipynb Cell 2\u001b[0m in \u001b[0;36m<cell line: 10>\u001b[0;34m()\u001b[0m\n\u001b[1;32m      <a href='vscode-notebook-cell:/Users/maxhager/Projects2022/KiwiBiolab/PyLabRobot/control.ipynb#W0sZmlsZQ%3D%3D?line=7'>8</a>\u001b[0m backend \u001b[39m=\u001b[39m STAR()\n\u001b[1;32m      <a href='vscode-notebook-cell:/Users/maxhager/Projects2022/KiwiBiolab/PyLabRobot/control.ipynb#W0sZmlsZQ%3D%3D?line=8'>9</a>\u001b[0m lh \u001b[39m=\u001b[39m LiquidHandler(backend\u001b[39m=\u001b[39mbackend, deck\u001b[39m=\u001b[39mSTARDeck())\n\u001b[0;32m---> <a href='vscode-notebook-cell:/Users/maxhager/Projects2022/KiwiBiolab/PyLabRobot/control.ipynb#W0sZmlsZQ%3D%3D?line=9'>10</a>\u001b[0m lh\u001b[39m.\u001b[39;49msetup()\n\u001b[1;32m     <a href='vscode-notebook-cell:/Users/maxhager/Projects2022/KiwiBiolab/PyLabRobot/control.ipynb#W0sZmlsZQ%3D%3D?line=10'>11</a>\u001b[0m \u001b[39mfrom\u001b[39;00m \u001b[39mpylabrobot\u001b[39;00m\u001b[39m.\u001b[39;00m\u001b[39mliquid_handling\u001b[39;00m\u001b[39m.\u001b[39;00m\u001b[39mresources\u001b[39;00m \u001b[39mimport\u001b[39;00m (\n\u001b[1;32m     <a href='vscode-notebook-cell:/Users/maxhager/Projects2022/KiwiBiolab/PyLabRobot/control.ipynb#W0sZmlsZQ%3D%3D?line=11'>12</a>\u001b[0m     MFX_CAR_5Tip,\n\u001b[1;32m     <a href='vscode-notebook-cell:/Users/maxhager/Projects2022/KiwiBiolab/PyLabRobot/control.ipynb#W0sZmlsZQ%3D%3D?line=12'>13</a>\u001b[0m     VER_ST\n\u001b[1;32m     <a href='vscode-notebook-cell:/Users/maxhager/Projects2022/KiwiBiolab/PyLabRobot/control.ipynb#W0sZmlsZQ%3D%3D?line=13'>14</a>\u001b[0m )\n\u001b[1;32m     <a href='vscode-notebook-cell:/Users/maxhager/Projects2022/KiwiBiolab/PyLabRobot/control.ipynb#W0sZmlsZQ%3D%3D?line=14'>15</a>\u001b[0m tip_car \u001b[39m=\u001b[39m MFX_CAR_5Tip(name\u001b[39m=\u001b[39m\u001b[39m'\u001b[39m\u001b[39mtip carrier\u001b[39m\u001b[39m'\u001b[39m)\n",
      "File \u001b[0;32m~/Projects2022/KiwiBiolab/PyLabRobot/pylabrobot/pylabrobot/liquid_handling/liquid_handler.py:104\u001b[0m, in \u001b[0;36mLiquidHandler.setup\u001b[0;34m(self)\u001b[0m\n\u001b[1;32m    101\u001b[0m \u001b[39mif\u001b[39;00m \u001b[39mself\u001b[39m\u001b[39m.\u001b[39msetup_finished:\n\u001b[1;32m    102\u001b[0m   \u001b[39mraise\u001b[39;00m \u001b[39mRuntimeError\u001b[39;00m(\u001b[39m\"\u001b[39m\u001b[39mThe setup has already finished. See `LiquidHandler.stop`.\u001b[39m\u001b[39m\"\u001b[39m)\n\u001b[0;32m--> 104\u001b[0m \u001b[39mself\u001b[39;49m\u001b[39m.\u001b[39;49mbackend\u001b[39m.\u001b[39;49msetup()\n\u001b[1;32m    105\u001b[0m \u001b[39mself\u001b[39m\u001b[39m.\u001b[39msetup_finished \u001b[39m=\u001b[39m \u001b[39mTrue\u001b[39;00m\n",
      "File \u001b[0;32m~/Projects2022/KiwiBiolab/PyLabRobot/pylabrobot/pylabrobot/liquid_handling/backends/hamilton/STAR.py:434\u001b[0m, in \u001b[0;36mSTAR.setup\u001b[0;34m(self)\u001b[0m\n\u001b[1;32m    424\u001b[0m \u001b[39mself\u001b[39m\u001b[39m.\u001b[39mread_endpoint \u001b[39m=\u001b[39m usb\u001b[39m.\u001b[39mutil\u001b[39m.\u001b[39mfind_descriptor(\n\u001b[1;32m    425\u001b[0m   intf,\n\u001b[1;32m    426\u001b[0m   custom_match \u001b[39m=\u001b[39m \\\n\u001b[1;32m    427\u001b[0m   \u001b[39mlambda\u001b[39;00m e: \\\n\u001b[1;32m    428\u001b[0m       usb\u001b[39m.\u001b[39mutil\u001b[39m.\u001b[39mendpoint_direction(e\u001b[39m.\u001b[39mbEndpointAddress) \u001b[39m==\u001b[39m \\\n\u001b[1;32m    429\u001b[0m       usb\u001b[39m.\u001b[39mutil\u001b[39m.\u001b[39mENDPOINT_IN)\n\u001b[1;32m    431\u001b[0m logger\u001b[39m.\u001b[39minfo(\u001b[39m\"\u001b[39m\u001b[39mFound endpoints. \u001b[39m\u001b[39m\\n\u001b[39;00m\u001b[39mWrite:\u001b[39m\u001b[39m\\n\u001b[39;00m\u001b[39m \u001b[39m\u001b[39m%s\u001b[39;00m\u001b[39m \u001b[39m\u001b[39m\\n\u001b[39;00m\u001b[39mRead:\u001b[39m\u001b[39m\\n\u001b[39;00m\u001b[39m \u001b[39m\u001b[39m%s\u001b[39;00m\u001b[39m\"\u001b[39m, \u001b[39mself\u001b[39m\u001b[39m.\u001b[39mwrite_endpoint,\n\u001b[1;32m    432\u001b[0m   \u001b[39mself\u001b[39m\u001b[39m.\u001b[39mread_endpoint)\n\u001b[0;32m--> 434\u001b[0m initialized \u001b[39m=\u001b[39m \u001b[39mself\u001b[39;49m\u001b[39m.\u001b[39;49mrequest_instrument_initialization_status()\n\u001b[1;32m    435\u001b[0m \u001b[39mif\u001b[39;00m \u001b[39mnot\u001b[39;00m initialized:\n\u001b[1;32m    436\u001b[0m   logger\u001b[39m.\u001b[39minfo(\u001b[39m\"\u001b[39m\u001b[39mRunning backend initialization procedure.\u001b[39m\u001b[39m\"\u001b[39m)\n",
      "File \u001b[0;32m~/Projects2022/KiwiBiolab/PyLabRobot/pylabrobot/pylabrobot/liquid_handling/backends/hamilton/STAR.py:1309\u001b[0m, in \u001b[0;36mSTAR.request_instrument_initialization_status\u001b[0;34m(self)\u001b[0m\n\u001b[1;32m   1306\u001b[0m \u001b[39mdef\u001b[39;00m \u001b[39mrequest_instrument_initialization_status\u001b[39m(\u001b[39mself\u001b[39m):\n\u001b[1;32m   1307\u001b[0m   \u001b[39m\"\"\" Request instrument initialization status \"\"\"\u001b[39;00m\n\u001b[0;32m-> 1309\u001b[0m   \u001b[39mreturn\u001b[39;00m \u001b[39mself\u001b[39;49m\u001b[39m.\u001b[39;49msend_command(module\u001b[39m=\u001b[39;49m\u001b[39m\"\u001b[39;49m\u001b[39mC0\u001b[39;49m\u001b[39m\"\u001b[39;49m, command\u001b[39m=\u001b[39;49m\u001b[39m\"\u001b[39;49m\u001b[39mQW\u001b[39;49m\u001b[39m\"\u001b[39;49m, fmt\u001b[39m=\u001b[39;49m\u001b[39m\"\u001b[39;49m\u001b[39mqw#\u001b[39;49m\u001b[39m\"\u001b[39;49m)[\u001b[39m\"\u001b[39m\u001b[39mqw\u001b[39m\u001b[39m\"\u001b[39m] \u001b[39m==\u001b[39m \u001b[39m1\u001b[39m\n",
      "File \u001b[0;32m~/Projects2022/KiwiBiolab/PyLabRobot/pylabrobot/pylabrobot/liquid_handling/backends/hamilton/STAR.py:334\u001b[0m, in \u001b[0;36mHamiltonLiquidHandler.send_command\u001b[0;34m(self, module, command, timeout, fmt, wait, **kwargs)\u001b[0m\n\u001b[1;32m    331\u001b[0m cmd, id_ \u001b[39m=\u001b[39m \u001b[39mself\u001b[39m\u001b[39m.\u001b[39m_assemble_command(module, command, \u001b[39m*\u001b[39m\u001b[39m*\u001b[39mkwargs)\n\u001b[1;32m    333\u001b[0m \u001b[39m# write command to endpoint\u001b[39;00m\n\u001b[0;32m--> 334\u001b[0m \u001b[39mself\u001b[39;49m\u001b[39m.\u001b[39;49mdev\u001b[39m.\u001b[39;49mwrite(\u001b[39mself\u001b[39;49m\u001b[39m.\u001b[39;49mwrite_endpoint, cmd)\n\u001b[1;32m    335\u001b[0m logger\u001b[39m.\u001b[39minfo(\u001b[39m\"\u001b[39m\u001b[39mSent command: \u001b[39m\u001b[39m%s\u001b[39;00m\u001b[39m\"\u001b[39m, cmd)\n\u001b[1;32m    337\u001b[0m \u001b[39mif\u001b[39;00m \u001b[39mnot\u001b[39;00m wait:\n",
      "File \u001b[0;32m/Library/Frameworks/Python.framework/Versions/3.10/lib/python3.10/site-packages/usb/core.py:986\u001b[0m, in \u001b[0;36mDevice.write\u001b[0;34m(self, endpoint, data, timeout)\u001b[0m\n\u001b[1;32m    978\u001b[0m backend \u001b[39m=\u001b[39m \u001b[39mself\u001b[39m\u001b[39m.\u001b[39m_ctx\u001b[39m.\u001b[39mbackend\n\u001b[1;32m    980\u001b[0m fn_map \u001b[39m=\u001b[39m {\n\u001b[1;32m    981\u001b[0m             util\u001b[39m.\u001b[39mENDPOINT_TYPE_BULK:backend\u001b[39m.\u001b[39mbulk_write,\n\u001b[1;32m    982\u001b[0m             util\u001b[39m.\u001b[39mENDPOINT_TYPE_INTR:backend\u001b[39m.\u001b[39mintr_write,\n\u001b[1;32m    983\u001b[0m             util\u001b[39m.\u001b[39mENDPOINT_TYPE_ISO:backend\u001b[39m.\u001b[39miso_write\n\u001b[1;32m    984\u001b[0m         }\n\u001b[0;32m--> 986\u001b[0m intf, ep \u001b[39m=\u001b[39m \u001b[39mself\u001b[39;49m\u001b[39m.\u001b[39;49m_ctx\u001b[39m.\u001b[39;49msetup_request(\u001b[39mself\u001b[39;49m, endpoint)\n\u001b[1;32m    987\u001b[0m fn \u001b[39m=\u001b[39m fn_map[util\u001b[39m.\u001b[39mendpoint_type(ep\u001b[39m.\u001b[39mbmAttributes)]\n\u001b[1;32m    989\u001b[0m \u001b[39mreturn\u001b[39;00m fn(\n\u001b[1;32m    990\u001b[0m         \u001b[39mself\u001b[39m\u001b[39m.\u001b[39m_ctx\u001b[39m.\u001b[39mhandle,\n\u001b[1;32m    991\u001b[0m         ep\u001b[39m.\u001b[39mbEndpointAddress,\n\u001b[0;32m   (...)\u001b[0m\n\u001b[1;32m    994\u001b[0m         \u001b[39mself\u001b[39m\u001b[39m.\u001b[39m__get_timeout(timeout)\n\u001b[1;32m    995\u001b[0m     )\n",
      "File \u001b[0;32m/Library/Frameworks/Python.framework/Versions/3.10/lib/python3.10/site-packages/usb/core.py:113\u001b[0m, in \u001b[0;36msynchronized.<locals>.wrapper\u001b[0;34m(self, *args, **kwargs)\u001b[0m\n\u001b[1;32m    111\u001b[0m \u001b[39mtry\u001b[39;00m:\n\u001b[1;32m    112\u001b[0m     \u001b[39mself\u001b[39m\u001b[39m.\u001b[39mlock\u001b[39m.\u001b[39macquire()\n\u001b[0;32m--> 113\u001b[0m     \u001b[39mreturn\u001b[39;00m f(\u001b[39mself\u001b[39;49m, \u001b[39m*\u001b[39;49margs, \u001b[39m*\u001b[39;49m\u001b[39m*\u001b[39;49mkwargs)\n\u001b[1;32m    114\u001b[0m \u001b[39mfinally\u001b[39;00m:\n\u001b[1;32m    115\u001b[0m     \u001b[39mself\u001b[39m\u001b[39m.\u001b[39mlock\u001b[39m.\u001b[39mrelease()\n",
      "File \u001b[0;32m/Library/Frameworks/Python.framework/Versions/3.10/lib/python3.10/site-packages/usb/core.py:229\u001b[0m, in \u001b[0;36m_ResourceManager.setup_request\u001b[0;34m(self, device, endpoint)\u001b[0m\n\u001b[1;32m    226\u001b[0m     endpoint_address \u001b[39m=\u001b[39m endpoint\n\u001b[1;32m    228\u001b[0m intf, ep \u001b[39m=\u001b[39m \u001b[39mself\u001b[39m\u001b[39m.\u001b[39mget_interface_and_endpoint(device, endpoint_address)\n\u001b[0;32m--> 229\u001b[0m \u001b[39mself\u001b[39;49m\u001b[39m.\u001b[39;49mmanaged_claim_interface(device, intf)\n\u001b[1;32m    230\u001b[0m \u001b[39mreturn\u001b[39;00m (intf, ep)\n",
      "File \u001b[0;32m/Library/Frameworks/Python.framework/Versions/3.10/lib/python3.10/site-packages/usb/core.py:113\u001b[0m, in \u001b[0;36msynchronized.<locals>.wrapper\u001b[0;34m(self, *args, **kwargs)\u001b[0m\n\u001b[1;32m    111\u001b[0m \u001b[39mtry\u001b[39;00m:\n\u001b[1;32m    112\u001b[0m     \u001b[39mself\u001b[39m\u001b[39m.\u001b[39mlock\u001b[39m.\u001b[39macquire()\n\u001b[0;32m--> 113\u001b[0m     \u001b[39mreturn\u001b[39;00m f(\u001b[39mself\u001b[39;49m, \u001b[39m*\u001b[39;49margs, \u001b[39m*\u001b[39;49m\u001b[39m*\u001b[39;49mkwargs)\n\u001b[1;32m    114\u001b[0m \u001b[39mfinally\u001b[39;00m:\n\u001b[1;32m    115\u001b[0m     \u001b[39mself\u001b[39m\u001b[39m.\u001b[39mlock\u001b[39m.\u001b[39mrelease()\n",
      "File \u001b[0;32m/Library/Frameworks/Python.framework/Versions/3.10/lib/python3.10/site-packages/usb/core.py:178\u001b[0m, in \u001b[0;36m_ResourceManager.managed_claim_interface\u001b[0;34m(self, device, intf)\u001b[0m\n\u001b[1;32m    175\u001b[0m     i \u001b[39m=\u001b[39m intf\n\u001b[1;32m    177\u001b[0m \u001b[39mif\u001b[39;00m i \u001b[39mnot\u001b[39;00m \u001b[39min\u001b[39;00m \u001b[39mself\u001b[39m\u001b[39m.\u001b[39m_claimed_intf:\n\u001b[0;32m--> 178\u001b[0m     \u001b[39mself\u001b[39;49m\u001b[39m.\u001b[39;49mbackend\u001b[39m.\u001b[39;49mclaim_interface(\u001b[39mself\u001b[39;49m\u001b[39m.\u001b[39;49mhandle, i)\n\u001b[1;32m    179\u001b[0m     \u001b[39mself\u001b[39m\u001b[39m.\u001b[39m_claimed_intf\u001b[39m.\u001b[39madd(i)\n",
      "File \u001b[0;32m/Library/Frameworks/Python.framework/Versions/3.10/lib/python3.10/site-packages/usb/backend/libusb1.py:829\u001b[0m, in \u001b[0;36m_LibUSB.claim_interface\u001b[0;34m(self, dev_handle, intf)\u001b[0m\n\u001b[1;32m    827\u001b[0m \u001b[39m@methodtrace\u001b[39m(_logger)\n\u001b[1;32m    828\u001b[0m \u001b[39mdef\u001b[39;00m \u001b[39mclaim_interface\u001b[39m(\u001b[39mself\u001b[39m, dev_handle, intf):\n\u001b[0;32m--> 829\u001b[0m     _check(\u001b[39mself\u001b[39;49m\u001b[39m.\u001b[39;49mlib\u001b[39m.\u001b[39;49mlibusb_claim_interface(dev_handle\u001b[39m.\u001b[39;49mhandle, intf))\n",
      "File \u001b[0;32m/Library/Frameworks/Python.framework/Versions/3.10/lib/python3.10/site-packages/usb/backend/libusb1.py:604\u001b[0m, in \u001b[0;36m_check\u001b[0;34m(ret)\u001b[0m\n\u001b[1;32m    602\u001b[0m         \u001b[39mraise\u001b[39;00m USBTimeoutError(_strerror(ret), ret, _libusb_errno[ret])\n\u001b[1;32m    603\u001b[0m     \u001b[39melse\u001b[39;00m:\n\u001b[0;32m--> 604\u001b[0m         \u001b[39mraise\u001b[39;00m USBError(_strerror(ret), ret, _libusb_errno[ret])\n\u001b[1;32m    606\u001b[0m \u001b[39mreturn\u001b[39;00m ret\n",
      "\u001b[0;31mUSBError\u001b[0m: [Errno 13] Access denied (insufficient permissions)"
     ]
    }
   ],
   "source": [
    "from pylabrobot.liquid_handling import LiquidHandler\n",
    "from pylabrobot.liquid_handling.backends import STAR\n",
    "from pylabrobot.liquid_handling.resources.hamilton import STARDeck\n",
    "import logging\n",
    "logging.getLogger(\"pylabrobot\").setLevel(logging.DEBUG)\n",
    "\n",
    "\n",
    "backend = STAR()\n",
    "lh = LiquidHandler(backend=backend, deck=STARDeck())\n",
    "lh.setup()\n",
    "from pylabrobot.liquid_handling.resources import (\n",
    "    MFX_CAR_5Tip,\n",
    "    VER_ST\n",
    ")\n",
    "\n",
    "#tip carrier\n",
    "tip_car = MFX_CAR_5Tip(name='tip carrier')\n",
    "tip_car[1] = VER_ST(name='tips_01')\n",
    "lh.deck.assign_child_resource(tip_car, rails=43)\n",
    "\n",
    "#tip carrier 2\n",
    "plt_car = PLT_CAR_L5AC_A00(name='plate carrier')\n",
    "plt_car[0] = Cos_96_DW_1mL(name='plate_01')\n",
    "lh.deck.assign_child_resource(plt_car, rails=15)\n",
    "\n",
    "\n",
    "lh.summary()"
   ]
  },
  {
   "cell_type": "markdown",
   "metadata": {},
   "source": [
    "# Pick up tips "
   ]
  },
  {
   "cell_type": "code",
   "execution_count": 1,
   "metadata": {},
   "outputs": [
    {
     "ename": "NameError",
     "evalue": "name 'lh' is not defined",
     "output_type": "error",
     "traceback": [
      "\u001b[0;31m---------------------------------------------------------------------------\u001b[0m",
      "\u001b[0;31mNameError\u001b[0m                                 Traceback (most recent call last)",
      "\u001b[1;32m/Users/maxhager/Projects2022/KiwiBiolab/PyLabRobot/control.ipynb Cell 2\u001b[0m in \u001b[0;36m<cell line: 1>\u001b[0;34m()\u001b[0m\n\u001b[0;32m----> <a href='vscode-notebook-cell:/Users/maxhager/Projects2022/KiwiBiolab/PyLabRobot/control.ipynb#W1sZmlsZQ%3D%3D?line=0'>1</a>\u001b[0m lh\u001b[39m.\u001b[39mdiscard_tips(tiprack[\u001b[39m\"\u001b[39m\u001b[39mA1\u001b[39m\u001b[39m\"\u001b[39m])\n",
      "\u001b[0;31mNameError\u001b[0m: name 'lh' is not defined"
     ]
    }
   ],
   "source": [
    "tiprack = lh.get_resource(\"tips_01\")\n",
    "lh.pick_up_tips(tiprack[\"A1\"])"
   ]
  },
  {
   "cell_type": "markdown",
   "metadata": {},
   "source": [
    "# Drive to rails 26 "
   ]
  },
  {
   "cell_type": "code",
   "execution_count": null,
   "metadata": {},
   "outputs": [],
   "source": []
  },
  {
   "cell_type": "markdown",
   "metadata": {},
   "source": [
    "# Discard tips"
   ]
  },
  {
   "cell_type": "code",
   "execution_count": null,
   "metadata": {},
   "outputs": [],
   "source": [
    "lh.discard_tips(tiprack[\"A1\"])"
   ]
  }
 ],
 "metadata": {
  "kernelspec": {
   "display_name": "Python 3.10.6 64-bit",
   "language": "python",
   "name": "python3"
  },
  "language_info": {
   "codemirror_mode": {
    "name": "ipython",
    "version": 3
   },
   "file_extension": ".py",
   "mimetype": "text/x-python",
   "name": "python",
   "nbconvert_exporter": "python",
   "pygments_lexer": "ipython3",
   "version": "3.10.6"
  },
  "orig_nbformat": 4,
  "vscode": {
   "interpreter": {
    "hash": "aee8b7b246df8f9039afb4144a1f6fd8d2ca17a180786b69acc140d282b71a49"
   }
  }
 },
 "nbformat": 4,
 "nbformat_minor": 2
}
